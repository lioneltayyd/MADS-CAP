{
 "cells": [
  {
   "cell_type": "markdown",
   "metadata": {},
   "source": [
    "# Get Econometric Data. "
   ]
  },
  {
   "cell_type": "code",
   "execution_count": 1,
   "metadata": {},
   "outputs": [
    {
     "name": "stdout",
     "output_type": "stream",
     "text": [
      "Current directory: (/Users/lioneltay/Dropbox/Courses/michigan_mads/SIADS_697_/submission/MADS-CAP)\n"
     ]
    },
    {
     "name": "stderr",
     "output_type": "stream",
     "text": [
      "/Users/lioneltay/.local/share/virtualenvs/MADS-CAP-gLyVeGLS/lib/python3.8/site-packages/tqdm/auto.py:22: TqdmWarning: IProgress not found. Please update jupyter and ipywidgets. See https://ipywidgets.readthedocs.io/en/stable/user_install.html\n",
      "  from .autonotebook import tqdm as notebook_tqdm\n"
     ]
    }
   ],
   "source": [
    "# Python module. \n",
    "import re, os  \n",
    "import pandas as pd\n",
    "\n",
    "# Change the current directory from (./notebook) to root directory. \n",
    "while not re.match(r\".+MADS-CAP$\", os.getcwd()): \n",
    "\tos.chdir(\"..\") \n",
    "\t\n",
    "print(f\"Current directory: ({os.getcwd()})\") \n",
    "\n",
    "# For clearing safe warnings. Not important. \n",
    "from IPython.display import clear_output\n",
    "\n",
    "# Custom modules. \n",
    "from source.modules.processor_features import compile_features_each_econometric  \n",
    "from source.modules.processor_fred import get_econometric_fred  \n",
    "\n",
    "# Custom configs. \n",
    "from source.config_py.config import (\n",
    "\tDIR_DATASET_ECONOMIC_DATA, ECONOMIC_FRED_FEATURES, \n",
    ")"
   ]
  },
  {
   "cell_type": "markdown",
   "metadata": {},
   "source": [
    "## Configurations (general). "
   ]
  },
  {
   "cell_type": "code",
   "execution_count": 2,
   "metadata": {},
   "outputs": [],
   "source": [
    "# Pandas DF config. \n",
    "pd.set_option(\"display.max_rows\", 50, \"display.max_columns\", 50, \"display.max_colwidth\", 50)\n",
    "\n",
    "# Econometrics to collect data from. \n",
    "econometric_to_collect = ECONOMIC_FRED_FEATURES \n",
    "\n",
    "# Whether to load the cache file. \n",
    "load_cache = True \n",
    "\n",
    "# For clearing the output. Not important. \n",
    "clear_output()"
   ]
  },
  {
   "cell_type": "markdown",
   "metadata": {},
   "source": [
    "## Get econometric data. "
   ]
  },
  {
   "cell_type": "code",
   "execution_count": 3,
   "metadata": {},
   "outputs": [
    {
     "name": "stdout",
     "output_type": "stream",
     "text": [
      "Data already exists. Skipped (fed_ffr).\n",
      "Data already exists. Skipped (mortgage_rate_30yr).\n",
      "Data already exists. Skipped (mortgage_rate_15yr).\n",
      "Data already exists. Skipped (prime_loan_rate).\n",
      "Data already exists. Skipped (bond_yield_3mo).\n",
      "Data already exists. Skipped (bond_yield_2yr).\n",
      "Data already exists. Skipped (bond_yield_5yr).\n",
      "Data already exists. Skipped (bond_yield_10yr).\n",
      "Data already exists. Skipped (bond_yield_30yr).\n",
      "Data already exists. Skipped (bond_yield_10yr_minus_ffr).\n",
      "Data already exists. Skipped (bond_yield_10yr_minus_3mo).\n",
      "Data already exists. Skipped (bond_yield_10yr_minus_2yr).\n",
      "Data already exists. Skipped (consumer_sentiment_umich).\n",
      "Data already exists. Skipped (consumer_confidence_oecd).\n"
     ]
    },
    {
     "data": {
      "text/html": [
       "<div>\n",
       "<style scoped>\n",
       "    .dataframe tbody tr th:only-of-type {\n",
       "        vertical-align: middle;\n",
       "    }\n",
       "\n",
       "    .dataframe tbody tr th {\n",
       "        vertical-align: top;\n",
       "    }\n",
       "\n",
       "    .dataframe thead th {\n",
       "        text-align: right;\n",
       "    }\n",
       "</style>\n",
       "<table border=\"1\" class=\"dataframe\">\n",
       "  <thead>\n",
       "    <tr style=\"text-align: right;\">\n",
       "      <th></th>\n",
       "      <th>date</th>\n",
       "      <th>value</th>\n",
       "      <th>econometric</th>\n",
       "      <th>frequency</th>\n",
       "    </tr>\n",
       "  </thead>\n",
       "  <tbody>\n",
       "    <tr>\n",
       "      <th>0</th>\n",
       "      <td>1998-12-01</td>\n",
       "      <td>4.680000</td>\n",
       "      <td>fed_ffr</td>\n",
       "      <td>monthly</td>\n",
       "    </tr>\n",
       "    <tr>\n",
       "      <th>1</th>\n",
       "      <td>1999-01-01</td>\n",
       "      <td>4.630000</td>\n",
       "      <td>fed_ffr</td>\n",
       "      <td>monthly</td>\n",
       "    </tr>\n",
       "    <tr>\n",
       "      <th>2</th>\n",
       "      <td>1999-02-01</td>\n",
       "      <td>4.760000</td>\n",
       "      <td>fed_ffr</td>\n",
       "      <td>monthly</td>\n",
       "    </tr>\n",
       "    <tr>\n",
       "      <th>3</th>\n",
       "      <td>1999-03-01</td>\n",
       "      <td>4.810000</td>\n",
       "      <td>fed_ffr</td>\n",
       "      <td>monthly</td>\n",
       "    </tr>\n",
       "    <tr>\n",
       "      <th>4</th>\n",
       "      <td>1999-04-01</td>\n",
       "      <td>4.740000</td>\n",
       "      <td>fed_ffr</td>\n",
       "      <td>monthly</td>\n",
       "    </tr>\n",
       "    <tr>\n",
       "      <th>...</th>\n",
       "      <td>...</td>\n",
       "      <td>...</td>\n",
       "      <td>...</td>\n",
       "      <td>...</td>\n",
       "    </tr>\n",
       "    <tr>\n",
       "      <th>50189</th>\n",
       "      <td>2021-10-01</td>\n",
       "      <td>97.975972</td>\n",
       "      <td>consumer_confidence_oecd</td>\n",
       "      <td>monthly</td>\n",
       "    </tr>\n",
       "    <tr>\n",
       "      <th>50190</th>\n",
       "      <td>2021-11-01</td>\n",
       "      <td>97.796402</td>\n",
       "      <td>consumer_confidence_oecd</td>\n",
       "      <td>monthly</td>\n",
       "    </tr>\n",
       "    <tr>\n",
       "      <th>50191</th>\n",
       "      <td>2021-12-01</td>\n",
       "      <td>97.672905</td>\n",
       "      <td>consumer_confidence_oecd</td>\n",
       "      <td>monthly</td>\n",
       "    </tr>\n",
       "    <tr>\n",
       "      <th>50192</th>\n",
       "      <td>2022-01-01</td>\n",
       "      <td>97.403699</td>\n",
       "      <td>consumer_confidence_oecd</td>\n",
       "      <td>monthly</td>\n",
       "    </tr>\n",
       "    <tr>\n",
       "      <th>50193</th>\n",
       "      <td>2022-02-01</td>\n",
       "      <td>97.081847</td>\n",
       "      <td>consumer_confidence_oecd</td>\n",
       "      <td>monthly</td>\n",
       "    </tr>\n",
       "  </tbody>\n",
       "</table>\n",
       "<p>50194 rows × 4 columns</p>\n",
       "</div>"
      ],
      "text/plain": [
       "             date      value               econometric frequency\n",
       "0      1998-12-01   4.680000                   fed_ffr   monthly\n",
       "1      1999-01-01   4.630000                   fed_ffr   monthly\n",
       "2      1999-02-01   4.760000                   fed_ffr   monthly\n",
       "3      1999-03-01   4.810000                   fed_ffr   monthly\n",
       "4      1999-04-01   4.740000                   fed_ffr   monthly\n",
       "...           ...        ...                       ...       ...\n",
       "50189  2021-10-01  97.975972  consumer_confidence_oecd   monthly\n",
       "50190  2021-11-01  97.796402  consumer_confidence_oecd   monthly\n",
       "50191  2021-12-01  97.672905  consumer_confidence_oecd   monthly\n",
       "50192  2022-01-01  97.403699  consumer_confidence_oecd   monthly\n",
       "50193  2022-02-01  97.081847  consumer_confidence_oecd   monthly\n",
       "\n",
       "[50194 rows x 4 columns]"
      ]
     },
     "execution_count": 3,
     "metadata": {},
     "output_type": "execute_result"
    }
   ],
   "source": [
    "# Assign (load_cache) to (False) to overwrite existing data for all tickers. \n",
    "# Otherwise, it will append unavailable data to the existing dataset. \n",
    "\n",
    "filepath = os.path.join(DIR_DATASET_ECONOMIC_DATA, \"econometric_fred.csv\") \n",
    "df_econometric = compile_features_each_econometric(\n",
    "\tget_econometric_fred, filepath, econometric_to_collect, load_cache=load_cache\n",
    ") \n",
    "\n",
    "# Preview. \n",
    "df_econometric "
   ]
  },
  {
   "cell_type": "code",
   "execution_count": null,
   "metadata": {},
   "outputs": [],
   "source": []
  }
 ],
 "metadata": {
  "kernelspec": {
   "display_name": "Python 3.8.9 ('MADS-CAP-gLyVeGLS')",
   "language": "python",
   "name": "python3"
  },
  "language_info": {
   "codemirror_mode": {
    "name": "ipython",
    "version": 3
   },
   "file_extension": ".py",
   "mimetype": "text/x-python",
   "name": "python",
   "nbconvert_exporter": "python",
   "pygments_lexer": "ipython3",
   "version": "3.8.5"
  },
  "orig_nbformat": 4,
  "vscode": {
   "interpreter": {
    "hash": "e7ee05ce00554688a6771a15a8a666058a0b94351dc199e7e8a7b13fb7e28b86"
   }
  }
 },
 "nbformat": 4,
 "nbformat_minor": 2
}
