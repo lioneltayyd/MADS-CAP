{
 "cells": [
  {
   "cell_type": "markdown",
   "metadata": {},
   "source": [
    "# Get Technical Indicator Data. "
   ]
  },
  {
   "cell_type": "code",
   "execution_count": 1,
   "metadata": {},
   "outputs": [
    {
     "name": "stdout",
     "output_type": "stream",
     "text": [
      "Current directory: (/Users/lioneltay/Dropbox/Courses/michigan_mads/SIADS_697_/submission/MADS-CAP)\n"
     ]
    },
    {
     "name": "stderr",
     "output_type": "stream",
     "text": [
      "/Users/lioneltay/.local/share/virtualenvs/MADS-CAP-gLyVeGLS/lib/python3.8/site-packages/tqdm/auto.py:22: TqdmWarning: IProgress not found. Please update jupyter and ipywidgets. See https://ipywidgets.readthedocs.io/en/stable/user_install.html\n",
      "  from .autonotebook import tqdm as notebook_tqdm\n"
     ]
    }
   ],
   "source": [
    "# Python module. \n",
    "import re, os  \n",
    "import pandas as pd\n",
    "\n",
    "# Change the current directory from (./notebook) to root directory. \n",
    "while not re.match(r\".+MADS-CAP$\", os.getcwd()): \n",
    "\tos.chdir(\"..\") \n",
    "\t\n",
    "print(f\"Current directory: ({os.getcwd()})\") \n",
    "\n",
    "# For clearing safe warnings. Not important. \n",
    "from IPython.display import clear_output\n",
    "\n",
    "# Custom modules. \n",
    "from source.modules.processor_features import compile_features_each_ticker \n",
    "from source.modules.processor_technical import get_techind_alphav \n",
    "\n",
    "# Custom configs. \n",
    "from source.config_py.config import (\n",
    "\tDIR_DATASET_TECH_IND, TICKER_TO_COLLECT, TICKER_TO_EXCLUDE, \n",
    ")"
   ]
  },
  {
   "cell_type": "markdown",
   "metadata": {},
   "source": [
    "## Configurations (general). "
   ]
  },
  {
   "cell_type": "code",
   "execution_count": 2,
   "metadata": {},
   "outputs": [],
   "source": [
    "# Pandas DF config. \n",
    "pd.set_option(\"display.max_rows\", 50, \"display.max_columns\", 50, \"display.max_colwidth\", 50)\n",
    "\n",
    "# List of ticker to collect data. \n",
    "ticker_to_collect = TICKER_TO_COLLECT.difference(TICKER_TO_EXCLUDE) \n",
    "\n",
    "# Whether to load the cache file. \n",
    "load_cache = True \n",
    "\n",
    "# For clearing the output. Not important. \n",
    "clear_output()"
   ]
  },
  {
   "cell_type": "markdown",
   "metadata": {},
   "source": [
    "## Get technical indicator data. "
   ]
  },
  {
   "cell_type": "code",
   "execution_count": 3,
   "metadata": {},
   "outputs": [
    {
     "data": {
      "text/html": [
       "<div>\n",
       "<style scoped>\n",
       "    .dataframe tbody tr th:only-of-type {\n",
       "        vertical-align: middle;\n",
       "    }\n",
       "\n",
       "    .dataframe tbody tr th {\n",
       "        vertical-align: top;\n",
       "    }\n",
       "\n",
       "    .dataframe thead th {\n",
       "        text-align: right;\n",
       "    }\n",
       "</style>\n",
       "<table border=\"1\" class=\"dataframe\">\n",
       "  <thead>\n",
       "    <tr style=\"text-align: right;\">\n",
       "      <th></th>\n",
       "      <th>ticker</th>\n",
       "      <th>date</th>\n",
       "      <th>macd_MACD_Hist</th>\n",
       "      <th>macd_MACD</th>\n",
       "      <th>macd_MACD_Signal</th>\n",
       "      <th>stoch_SlowK</th>\n",
       "      <th>stoch_SlowD</th>\n",
       "    </tr>\n",
       "  </thead>\n",
       "  <tbody>\n",
       "    <tr>\n",
       "      <th>0</th>\n",
       "      <td>CVX</td>\n",
       "      <td>1998-12-01</td>\n",
       "      <td>NaN</td>\n",
       "      <td>NaN</td>\n",
       "      <td>NaN</td>\n",
       "      <td>NaN</td>\n",
       "      <td>NaN</td>\n",
       "    </tr>\n",
       "    <tr>\n",
       "      <th>1</th>\n",
       "      <td>CVX</td>\n",
       "      <td>1998-12-02</td>\n",
       "      <td>NaN</td>\n",
       "      <td>NaN</td>\n",
       "      <td>NaN</td>\n",
       "      <td>NaN</td>\n",
       "      <td>NaN</td>\n",
       "    </tr>\n",
       "    <tr>\n",
       "      <th>2</th>\n",
       "      <td>CVX</td>\n",
       "      <td>1998-12-03</td>\n",
       "      <td>NaN</td>\n",
       "      <td>NaN</td>\n",
       "      <td>NaN</td>\n",
       "      <td>NaN</td>\n",
       "      <td>NaN</td>\n",
       "    </tr>\n",
       "    <tr>\n",
       "      <th>3</th>\n",
       "      <td>CVX</td>\n",
       "      <td>1998-12-04</td>\n",
       "      <td>NaN</td>\n",
       "      <td>NaN</td>\n",
       "      <td>NaN</td>\n",
       "      <td>NaN</td>\n",
       "      <td>NaN</td>\n",
       "    </tr>\n",
       "    <tr>\n",
       "      <th>4</th>\n",
       "      <td>CVX</td>\n",
       "      <td>1998-12-05</td>\n",
       "      <td>NaN</td>\n",
       "      <td>NaN</td>\n",
       "      <td>NaN</td>\n",
       "      <td>NaN</td>\n",
       "      <td>NaN</td>\n",
       "    </tr>\n",
       "    <tr>\n",
       "      <th>...</th>\n",
       "      <td>...</td>\n",
       "      <td>...</td>\n",
       "      <td>...</td>\n",
       "      <td>...</td>\n",
       "      <td>...</td>\n",
       "      <td>...</td>\n",
       "      <td>...</td>\n",
       "    </tr>\n",
       "    <tr>\n",
       "      <th>283069</th>\n",
       "      <td>MCD</td>\n",
       "      <td>2022-06-28</td>\n",
       "      <td>0.6197</td>\n",
       "      <td>-0.0729</td>\n",
       "      <td>-0.6926</td>\n",
       "      <td>75.3365</td>\n",
       "      <td>86.3901</td>\n",
       "    </tr>\n",
       "    <tr>\n",
       "      <th>283070</th>\n",
       "      <td>MCD</td>\n",
       "      <td>2022-06-29</td>\n",
       "      <td>0.8162</td>\n",
       "      <td>0.3276</td>\n",
       "      <td>-0.4886</td>\n",
       "      <td>67.7617</td>\n",
       "      <td>78.3462</td>\n",
       "    </tr>\n",
       "    <tr>\n",
       "      <th>283071</th>\n",
       "      <td>MCD</td>\n",
       "      <td>2022-06-30</td>\n",
       "      <td>0.8462</td>\n",
       "      <td>0.5691</td>\n",
       "      <td>-0.2770</td>\n",
       "      <td>57.9268</td>\n",
       "      <td>67.0083</td>\n",
       "    </tr>\n",
       "    <tr>\n",
       "      <th>283072</th>\n",
       "      <td>MCD</td>\n",
       "      <td>2022-07-01</td>\n",
       "      <td>1.2111</td>\n",
       "      <td>1.2369</td>\n",
       "      <td>0.0258</td>\n",
       "      <td>77.8504</td>\n",
       "      <td>67.8463</td>\n",
       "    </tr>\n",
       "    <tr>\n",
       "      <th>283073</th>\n",
       "      <td>MCD</td>\n",
       "      <td>2022-07-05</td>\n",
       "      <td>1.3334</td>\n",
       "      <td>1.6925</td>\n",
       "      <td>0.3591</td>\n",
       "      <td>82.9678</td>\n",
       "      <td>72.9150</td>\n",
       "    </tr>\n",
       "  </tbody>\n",
       "</table>\n",
       "<p>283074 rows × 7 columns</p>\n",
       "</div>"
      ],
      "text/plain": [
       "       ticker        date  macd_MACD_Hist  macd_MACD  macd_MACD_Signal  \\\n",
       "0         CVX  1998-12-01             NaN        NaN               NaN   \n",
       "1         CVX  1998-12-02             NaN        NaN               NaN   \n",
       "2         CVX  1998-12-03             NaN        NaN               NaN   \n",
       "3         CVX  1998-12-04             NaN        NaN               NaN   \n",
       "4         CVX  1998-12-05             NaN        NaN               NaN   \n",
       "...       ...         ...             ...        ...               ...   \n",
       "283069    MCD  2022-06-28          0.6197    -0.0729           -0.6926   \n",
       "283070    MCD  2022-06-29          0.8162     0.3276           -0.4886   \n",
       "283071    MCD  2022-06-30          0.8462     0.5691           -0.2770   \n",
       "283072    MCD  2022-07-01          1.2111     1.2369            0.0258   \n",
       "283073    MCD  2022-07-05          1.3334     1.6925            0.3591   \n",
       "\n",
       "        stoch_SlowK  stoch_SlowD  \n",
       "0               NaN          NaN  \n",
       "1               NaN          NaN  \n",
       "2               NaN          NaN  \n",
       "3               NaN          NaN  \n",
       "4               NaN          NaN  \n",
       "...             ...          ...  \n",
       "283069      75.3365      86.3901  \n",
       "283070      67.7617      78.3462  \n",
       "283071      57.9268      67.0083  \n",
       "283072      77.8504      67.8463  \n",
       "283073      82.9678      72.9150  \n",
       "\n",
       "[283074 rows x 7 columns]"
      ]
     },
     "execution_count": 3,
     "metadata": {},
     "output_type": "execute_result"
    }
   ],
   "source": [
    "# Assign (load_cache) to (False) to overwrite existing data for all tickers. \n",
    "# Otherwise, it will append unavailable data to the existing dataset. \n",
    "# Take about 48 minutes to complete the entire S&P tickers. \n",
    "# Take about 3 minutes to complete 33 tickers. \n",
    "\n",
    "filepath = os.path.join(DIR_DATASET_TECH_IND, \"technical_indicator.csv\") \n",
    "df_technical = compile_features_each_ticker(get_techind_alphav, filepath, ticker_to_collect, load_cache=load_cache) \n",
    "\n",
    "# Preview. \n",
    "df_technical"
   ]
  },
  {
   "cell_type": "markdown",
   "metadata": {},
   "source": [
    "## Preprocess technical indicator data. "
   ]
  },
  {
   "cell_type": "code",
   "execution_count": null,
   "metadata": {},
   "outputs": [],
   "source": []
  }
 ],
 "metadata": {
  "kernelspec": {
   "display_name": "Python 3.8.9 ('MADS-CAP-gLyVeGLS')",
   "language": "python",
   "name": "python3"
  },
  "language_info": {
   "codemirror_mode": {
    "name": "ipython",
    "version": 3
   },
   "file_extension": ".py",
   "mimetype": "text/x-python",
   "name": "python",
   "nbconvert_exporter": "python",
   "pygments_lexer": "ipython3",
   "version": "3.8.5"
  },
  "orig_nbformat": 4,
  "vscode": {
   "interpreter": {
    "hash": "e7ee05ce00554688a6771a15a8a666058a0b94351dc199e7e8a7b13fb7e28b86"
   }
  }
 },
 "nbformat": 4,
 "nbformat_minor": 2
}
