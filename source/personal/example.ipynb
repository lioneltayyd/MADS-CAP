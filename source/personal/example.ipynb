{
 "cells": [
  {
   "cell_type": "markdown",
   "metadata": {},
   "source": [
    "# Example. "
   ]
  },
  {
   "cell_type": "code",
   "execution_count": 1,
   "metadata": {},
   "outputs": [
    {
     "name": "stdout",
     "output_type": "stream",
     "text": [
      "Current directory: (/Users/lioneltay/Dropbox/Courses/michigan_mads/SIADS_697_/submission/MADS-CAP)\n"
     ]
    },
    {
     "name": "stderr",
     "output_type": "stream",
     "text": [
      "/Users/lioneltay/.local/share/virtualenvs/MADS-CAP-gLyVeGLS/lib/python3.8/site-packages/tqdm/auto.py:22: TqdmWarning: IProgress not found. Please update jupyter and ipywidgets. See https://ipywidgets.readthedocs.io/en/stable/user_install.html\n",
      "  from .autonotebook import tqdm as notebook_tqdm\n"
     ]
    }
   ],
   "source": [
    "# Python module. \n",
    "import re, os \n",
    "import pandas as pd\n",
    "\n",
    "# Change the current directory to root directory. \n",
    "while not re.match(r\".+MADS-CAP$\", os.getcwd()): \n",
    "\tos.chdir(\"..\") \n",
    "\t\n",
    "print(f\"Current directory: ({os.getcwd()})\") \n",
    "\n",
    "# For clearing safe warnings. Not important. \n",
    "from IPython.display import clear_output\n",
    "\n",
    "# Custom modules. \n",
    "from source.modules import (\n",
    "\tmanage_files, processor_features, processor_ticker, processor_technical, \n",
    "\tprocessor_fred, processor_fundamental, processor_wrds, processor_estim, \n",
    "\tvisualizer, \n",
    ")\n",
    "\n",
    "# Custom configs. \n",
    "from source.config_py.config import * "
   ]
  },
  {
   "cell_type": "markdown",
   "metadata": {},
   "source": [
    "## Configurations (general). "
   ]
  },
  {
   "cell_type": "code",
   "execution_count": 2,
   "metadata": {},
   "outputs": [],
   "source": [
    "# Pandas DF config. \n",
    "pd.set_option(\"display.max_rows\", 50, \"display.max_columns\", 50, \"display.max_colwidth\", 50)\n",
    "\n",
    "# For clearing the output. Not important. \n",
    "clear_output()"
   ]
  },
  {
   "cell_type": "markdown",
   "metadata": {},
   "source": [
    "## Begin your exploration here. "
   ]
  },
  {
   "cell_type": "code",
   "execution_count": null,
   "metadata": {},
   "outputs": [],
   "source": []
  }
 ],
 "metadata": {
  "kernelspec": {
   "display_name": "Python 3.8.9 ('MADS-CAP-gLyVeGLS')",
   "language": "python",
   "name": "python3"
  },
  "language_info": {
   "codemirror_mode": {
    "name": "ipython",
    "version": 3
   },
   "file_extension": ".py",
   "mimetype": "text/x-python",
   "name": "python",
   "nbconvert_exporter": "python",
   "pygments_lexer": "ipython3",
   "version": "3.8.5"
  },
  "orig_nbformat": 4,
  "vscode": {
   "interpreter": {
    "hash": "e7ee05ce00554688a6771a15a8a666058a0b94351dc199e7e8a7b13fb7e28b86"
   }
  }
 },
 "nbformat": 4,
 "nbformat_minor": 2
}
